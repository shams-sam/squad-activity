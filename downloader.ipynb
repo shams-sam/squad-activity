{
 "cells": [
  {
   "cell_type": "code",
   "execution_count": null,
   "metadata": {},
   "outputs": [],
   "source": [
    "import json\n",
    "import config\n",
    "from urllib.request import urlretrieve, urlopen\n",
    "from tqdm import tqdm_notebook as tqdm"
   ]
  },
  {
   "cell_type": "code",
   "execution_count": null,
   "metadata": {},
   "outputs": [],
   "source": [
    "files = {\n",
    "    'TRAIN_DATA': config.TRAIN_DATA_FILE, \n",
    "    'TEST_DATA' : config.TEST_DATA_FILE, \n",
    "    'VALID_DATA': config.VALID_DATA_FILE\n",
    "}"
   ]
  },
  {
   "cell_type": "markdown",
   "metadata": {},
   "source": [
    "# JSON Explorer"
   ]
  },
  {
   "cell_type": "code",
   "execution_count": null,
   "metadata": {},
   "outputs": [],
   "source": [
    "for data_type, json_file in files.items():\n",
    "    data = json.load(open(json_file))\n",
    "    print(data_type, \"\\t->\", list(data.keys()))\n",
    "    for key in data.keys():\n",
    "        if type(data[key])==dict:\n",
    "            print('\\tDIRECTDICT: ', len(data[key]), key, \"\\t->\", list(data[key].keys()))\n",
    "        if type(data[key])==list:\n",
    "            print('\\tLISTOFDICT: ', len(data[key]), key + \"\\t->\", list(data[key][0].keys()))\n",
    "    "
   ]
  },
  {
   "cell_type": "markdown",
   "metadata": {},
   "source": [
    "# Data Downloader"
   ]
  },
  {
   "cell_type": "code",
   "execution_count": null,
   "metadata": {},
   "outputs": [],
   "source": [
    "download_configuration = [\n",
    "    {\n",
    "        'name' : 'TRAIN IMAGES',\n",
    "        'json' : config.TRAIN_DATA_FILE,\n",
    "        'dir'  : config.TRAIN_IMAGES_DIR\n",
    "    },\n",
    "    {\n",
    "        'name' : 'TEST IMAGES',\n",
    "        'json' : config.TEST_DATA_FILE,\n",
    "        'dir'  : config.TEST_IMAGES_DIR\n",
    "    },\n",
    "    {\n",
    "        'name' : 'VALID IMAGES',\n",
    "        'json' : config.VALID_DATA_FILE,\n",
    "        'dir'  : config.VALID_IMAGES_DIR\n",
    "    }\n",
    "]"
   ]
  },
  {
   "cell_type": "code",
   "execution_count": null,
   "metadata": {},
   "outputs": [],
   "source": [
    "data = json.load(open(config.TRAIN_DATA_FILE))\n",
    "data['images'][0]"
   ]
  },
  {
   "cell_type": "code",
   "execution_count": null,
   "metadata": {},
   "outputs": [],
   "source": [
    "for _ in download_configuration[:1]:\n",
    "    print(\"Downloading: \", _['name'])\n",
    "    data = json.load(open(_['json']))\n",
    "    for image in tqdm(data['images']):\n",
    "        FOUND = False\n",
    "        for url in image['url']:\n",
    "            try:\n",
    "                # reference: http://stackabuse.com/download-files-with-python/\n",
    "                urlretrieve(url, _['dir'] + \"/\" + image['imageId'] + \".jpg\")\n",
    "                FOUND = True\n",
    "                break\n",
    "            except:\n",
    "                continue\n",
    "        if not FOUND:\n",
    "            print(\"NOT FOUND:\", image['imageId'])"
   ]
  },
  {
   "cell_type": "code",
   "execution_count": null,
   "metadata": {},
   "outputs": [],
   "source": [
    "import sys\n",
    "import time\n",
    "import urllib.request\n",
    "\n",
    "\n",
    "def reporthook(count, block_size, total_size):\n",
    "    global start_time\n",
    "    if count == 0:\n",
    "        start_time = time.time()\n",
    "        return\n",
    "    duration = time.time() - start_time\n",
    "    progress_size = int(count * block_size)\n",
    "    speed = int(progress_size / (1024 * duration))\n",
    "    percent = min(int(count*block_size*100/total_size),100)\n",
    "    sys.stdout.write(\"\\r...%d%%, %d MB, %d KB/s, %d seconds passed\" %\n",
    "                    (percent, progress_size / (1024 * 1024), speed, duration))\n",
    "    sys.stdout.flush()\n",
    "\n",
    "def save(url, filename):\n",
    "    urllib.request.urlretrieve(url, filename, reporthook)"
   ]
  },
  {
   "cell_type": "markdown",
   "metadata": {},
   "source": [
    "# Downloader With Timeout Condition"
   ]
  },
  {
   "cell_type": "code",
   "execution_count": null,
   "metadata": {},
   "outputs": [],
   "source": [
    "from socket import timeout\n",
    "import urllib.request\n",
    "from urllib.error import HTTPError, URLError\n",
    "url = 'http://productshots3.modcloth.net/productshots/0062/9433/9c957ccc31e39e90c774dfd8351df5e7.jpg'\n",
    "try:\n",
    "    file = open('x.jpg', 'wb')\n",
    "    response = urllib.request.urlopen(url, timeout=5).read()\n",
    "    file.write(response)\n",
    "    file.close()\n",
    "except (HTTPError, URLError) as error:\n",
    "    print(error)\n",
    "except timeout:\n",
    "    print('socket timed out - URL %s', url)\n",
    "else:\n",
    "    print('Access successful.')"
   ]
  },
  {
   "cell_type": "code",
   "execution_count": null,
   "metadata": {},
   "outputs": [],
   "source": []
  }
 ],
 "metadata": {
  "anaconda-cloud": {},
  "kernelspec": {
   "display_name": "Python [conda env:anaconda3]",
   "language": "python",
   "name": "conda-env-anaconda3-py"
  },
  "language_info": {
   "codemirror_mode": {
    "name": "ipython",
    "version": 3
   },
   "file_extension": ".py",
   "mimetype": "text/x-python",
   "name": "python",
   "nbconvert_exporter": "python",
   "pygments_lexer": "ipython3",
   "version": "3.5.2"
  }
 },
 "nbformat": 4,
 "nbformat_minor": 1
}

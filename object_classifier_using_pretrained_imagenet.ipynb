{
 "cells": [
  {
   "cell_type": "markdown",
   "metadata": {},
   "source": [
    "# Imports"
   ]
  },
  {
   "cell_type": "code",
   "execution_count": 1,
   "metadata": {},
   "outputs": [
    {
     "name": "stderr",
     "output_type": "stream",
     "text": [
      "Using TensorFlow backend.\n"
     ]
    }
   ],
   "source": [
    "import config\n",
    "import utility\n",
    "\n",
    "import cv2\n",
    "from keras.applications.inception_v3 import InceptionV3, preprocess_input, decode_predictions\n",
    "from keras.preprocessing import image, text\n",
    "from keras.models import Model\n",
    "from keras.layers import Dense, GlobalAveragePooling2D, Input\n",
    "from keras import backend as K\n",
    "from keras.utils import to_categorical\n",
    "from keras.callbacks import EarlyStopping, ModelCheckpoint, Callback\n",
    "from keras.optimizers import SGD\n",
    "import matplotlib.pyplot as plt\n",
    "import numpy as np\n",
    "import os\n",
    "import pickle as pkl\n",
    "from sklearn.utils import class_weight\n",
    "from tqdm import tqdm_notebook as tqdm"
   ]
  },
  {
   "cell_type": "code",
   "execution_count": 2,
   "metadata": {},
   "outputs": [],
   "source": [
    "BATCH_SIZE=32"
   ]
  },
  {
   "cell_type": "markdown",
   "metadata": {},
   "source": [
    "# Check Devices"
   ]
  },
  {
   "cell_type": "code",
   "execution_count": 3,
   "metadata": {},
   "outputs": [
    {
     "name": "stdout",
     "output_type": "stream",
     "text": [
      "Device List\n",
      "\t CPU\n",
      "\t\tname: /device:CPU:0\n",
      "\t\tmemory_limit: 268435456\n",
      "Device List\n",
      "\t GPU\n",
      "\t\tname: /device:GPU:0\n",
      "\t\tmemory_limit: 3868721152\n"
     ]
    }
   ],
   "source": [
    "utility.check_devices()"
   ]
  },
  {
   "cell_type": "markdown",
   "metadata": {},
   "source": [
    "# Import Data"
   ]
  },
  {
   "cell_type": "code",
   "execution_count": 4,
   "metadata": {},
   "outputs": [],
   "source": [
    "df_train = pkl.load(open('./data/df_train.dump.pkl', 'rb'))\n",
    "df_valid = pkl.load(open('./data/df_valid.dump.pkl', 'rb'))\n",
    "task_id_to_object_map = pkl.load(open('./data/task_id_to_object_map.dump.pkl', 'rb'))"
   ]
  },
  {
   "cell_type": "code",
   "execution_count": 5,
   "metadata": {},
   "outputs": [],
   "source": [
    "train_labels = {}\n",
    "for path, taskId in zip(df_train.imageId.tolist(), df_train.taskId.tolist()):\n",
    "    train_labels[path.split('./train_images/')[1]] = task_id_to_object_map[taskId]\n",
    "valid_labels = {}\n",
    "for path, taskId in zip(df_valid.imageId.tolist(), df_valid.taskId.tolist()):\n",
    "    valid_labels[path.split('./valid_images/')[1]] = task_id_to_object_map[taskId]"
   ]
  },
  {
   "cell_type": "code",
   "execution_count": 6,
   "metadata": {},
   "outputs": [],
   "source": [
    "resized_train = os.listdir(config.RESIZED_TRAIN_DIR)\n",
    "resized_valid = os.listdir(config.RESIZED_VALID_DIR)"
   ]
  },
  {
   "cell_type": "code",
   "execution_count": 7,
   "metadata": {},
   "outputs": [],
   "source": [
    "# del X_train, X_valid\n",
    "X_train = np.empty(shape=(len(resized_train), config.MAX_PIXEL, config.MAX_PIXEL, 3), dtype=np.uint8)\n",
    "labels_train = []\n",
    "X_valid = np.empty(shape=(len(resized_valid), config.MAX_PIXEL, config.MAX_PIXEL, 3), dtype=np.uint8)\n",
    "labels_valid = []"
   ]
  },
  {
   "cell_type": "code",
   "execution_count": 8,
   "metadata": {},
   "outputs": [
    {
     "name": "stdout",
     "output_type": "stream",
     "text": [
      "\n"
     ]
    }
   ],
   "source": [
    "for idx, _ in tqdm(enumerate(resized_train), total=len(resized_train)):\n",
    "    img = cv2.imread(config.RESIZED_TRAIN_DIR + \"/\" + _)\n",
    "    h, w, c = img.shape\n",
    "    X_train[idx, :h, :w] = img\n",
    "    labels_train.append(train_labels[_])"
   ]
  },
  {
   "cell_type": "code",
   "execution_count": 9,
   "metadata": {},
   "outputs": [
    {
     "name": "stdout",
     "output_type": "stream",
     "text": [
      "\n"
     ]
    }
   ],
   "source": [
    "for idx, _ in tqdm(enumerate(resized_valid), total=len(resized_valid)):\n",
    "    img = cv2.imread(config.RESIZED_VALID_DIR + \"/\" + _)\n",
    "    h, w, c = img.shape\n",
    "    X_valid[idx, :h, :w] = img\n",
    "    labels_valid.append(valid_labels[_])"
   ]
  },
  {
   "cell_type": "code",
   "execution_count": 10,
   "metadata": {},
   "outputs": [],
   "source": [
    "label_tokenizer = text.Tokenizer()\n",
    "label_tokenizer.fit_on_texts(labels_valid)"
   ]
  },
  {
   "cell_type": "code",
   "execution_count": 11,
   "metadata": {},
   "outputs": [],
   "source": [
    "y_train = label_tokenizer.texts_to_sequences(labels_train)\n",
    "y_valid = label_tokenizer.texts_to_sequences(labels_valid)"
   ]
  },
  {
   "cell_type": "code",
   "execution_count": 12,
   "metadata": {},
   "outputs": [],
   "source": [
    "y_train = [_[0] for _ in y_train]\n",
    "y_valid = [_[0] for _ in y_valid]\n",
    "cls_wgt = class_weight.compute_class_weight('balanced', np.unique(y_train), y_train)\n",
    "cls_wgt = np.array([0] + cls_wgt.tolist())\n",
    "cls_wgt = {idx: value for idx, value in enumerate(cls_wgt)}"
   ]
  },
  {
   "cell_type": "code",
   "execution_count": 13,
   "metadata": {},
   "outputs": [
    {
     "data": {
      "text/plain": [
       "{0: 0.0,\n",
       " 1: 0.8259746359793331,\n",
       " 2: 0.8457579838399384,\n",
       " 3: 1.1644153092305656,\n",
       " 4: 1.3366524779568258}"
      ]
     },
     "execution_count": 13,
     "metadata": {},
     "output_type": "execute_result"
    }
   ],
   "source": [
    "cls_wgt"
   ]
  },
  {
   "cell_type": "code",
   "execution_count": 14,
   "metadata": {},
   "outputs": [],
   "source": [
    "y_train = to_categorical(np.array(y_train))\n",
    "y_valid = to_categorical(np.array(y_valid))"
   ]
  },
  {
   "cell_type": "code",
   "execution_count": 15,
   "metadata": {},
   "outputs": [
    {
     "name": "stdout",
     "output_type": "stream",
     "text": [
      "Shapes:\n",
      "X_train: (35170, 128, 128, 3)\n",
      "y_train: (35170, 5)\n",
      "X_valid: (7074, 128, 128, 3)\n",
      "y_valid: (7074, 5)\n"
     ]
    }
   ],
   "source": [
    "print(\"Shapes:\")\n",
    "print(\"X_train:\", X_train.shape)\n",
    "print(\"y_train:\", y_train.shape)\n",
    "print(\"X_valid:\", X_valid.shape)\n",
    "print(\"y_valid:\", y_valid.shape)"
   ]
  },
  {
   "cell_type": "code",
   "execution_count": null,
   "metadata": {},
   "outputs": [],
   "source": [
    "train_generator = image.ImageDataGenerator(featurewise_center=True,\n",
    "    featurewise_std_normalization=True,\n",
    "    rotation_range=20,\n",
    "    width_shift_range=0.2,\n",
    "    height_shift_range=0.2,\n",
    "    shear_range=0.2,\n",
    "    zoom_range=0.2,\n",
    "    horizontal_flip=True,\n",
    "    vertical_flip=False\n",
    ")\n",
    "\n",
    "valid_generator = image.ImageDataGenerator()"
   ]
  },
  {
   "cell_type": "code",
   "execution_count": null,
   "metadata": {},
   "outputs": [],
   "source": [
    "train_generator.fit(X_train)"
   ]
  },
  {
   "cell_type": "code",
   "execution_count": 16,
   "metadata": {},
   "outputs": [],
   "source": [
    "# reference: https://keras.io/applications/\n",
    "input_tensor = Input(shape=(config.MAX_PIXEL, config.MAX_PIXEL, 3))\n",
    "base_model = InceptionV3(input_tensor=input_tensor, weights='imagenet', include_top=False)\n",
    "x = base_model.output\n",
    "x = GlobalAveragePooling2D()(x)\n",
    "x = Dense(1024, activation='relu')(x)\n",
    "x = Dense(128, activation='relu')(x)\n",
    "predictions = Dense(5, activation='softmax')(x)\n",
    "model = Model(inputs=base_model.input, outputs=predictions)\n",
    "for layer in base_model.layers:\n",
    "    layer.trainable = False\n",
    "model.compile(optimizer=SGD(lr=0.0001, momentum=0.9), loss='categorical_crossentropy', metrics=['accuracy'])"
   ]
  },
  {
   "cell_type": "code",
   "execution_count": 17,
   "metadata": {},
   "outputs": [],
   "source": [
    "early_stopping =EarlyStopping(monitor='val_loss', patience=3)\n",
    "bst_model_path = 'model.h5'\n",
    "model_checkpoint = ModelCheckpoint(bst_model_path, save_best_only=True, save_weights_only=True)"
   ]
  },
  {
   "cell_type": "code",
   "execution_count": 19,
   "metadata": {
    "scrolled": true
   },
   "outputs": [
    {
     "name": "stdout",
     "output_type": "stream",
     "text": [
      "Train on 35170 samples, validate on 7074 samples\n",
      "Epoch 1/5\n",
      "35170/35170 [==============================] - 199s 6ms/step - loss: 1.3682 - acc: 0.3400 - val_loss: 10.5873 - val_acc: 0.2537\n",
      "Epoch 2/5\n",
      "35170/35170 [==============================] - 186s 5ms/step - loss: 1.2027 - acc: 0.4732 - val_loss: 9.9883 - val_acc: 0.2909\n",
      "Epoch 3/5\n",
      "35170/35170 [==============================] - 185s 5ms/step - loss: 1.1169 - acc: 0.5295 - val_loss: 10.7474 - val_acc: 0.2703\n",
      "Epoch 4/5\n",
      "35170/35170 [==============================] - 185s 5ms/step - loss: 1.0633 - acc: 0.5598 - val_loss: 10.7055 - val_acc: 0.2747\n",
      "Epoch 5/5\n",
      "35170/35170 [==============================] - 185s 5ms/step - loss: 1.0319 - acc: 0.5721 - val_loss: 10.9005 - val_acc: 0.2682\n"
     ]
    },
    {
     "data": {
      "text/plain": [
       "<keras.callbacks.History at 0x7f5eacad69e8>"
      ]
     },
     "execution_count": 19,
     "metadata": {},
     "output_type": "execute_result"
    }
   ],
   "source": [
    "model.fit(\n",
    "    X_train, y_train,\n",
    "    batch_size=BATCH_SIZE,\n",
    "    epochs=5, \n",
    "    validation_data=(X_valid, y_valid),\n",
    "    class_weight=cls_wgt,\n",
    "    callbacks=[early_stopping, model_checkpoint],\n",
    "    shuffle=True)"
   ]
  },
  {
   "cell_type": "code",
   "execution_count": null,
   "metadata": {},
   "outputs": [],
   "source": [
    "for i, layer in enumerate(base_model.layers):\n",
    "   print(i, layer.name)"
   ]
  },
  {
   "cell_type": "code",
   "execution_count": null,
   "metadata": {},
   "outputs": [],
   "source": [
    "for layer in model.layers[:249]:\n",
    "   layer.trainable = False\n",
    "for layer in model.layers[249:]:\n",
    "   layer.trainable = True"
   ]
  },
  {
   "cell_type": "code",
   "execution_count": null,
   "metadata": {
    "scrolled": true
   },
   "outputs": [],
   "source": [
    "model.compile(optimizer=SGD(lr=0.0001, momentum=0.9), loss='categorical_crossentropy')\n",
    "model.fit_generator(\n",
    "    train_generator.flow(X_train, y_train, batch_size=BATCH_SIZE, shuffle=True), \n",
    "    steps_per_epoch=len(X_train)/BATCH_SIZE, \n",
    "    epochs=50, \n",
    "    validation_data=valid_generator.flow(X_valid, y_valid),\n",
    "    class_weight=cls_wgt,\n",
    "    callbacks=[early_stopping, model_checkpoint],\n",
    "    shuffle=True)"
   ]
  },
  {
   "cell_type": "code",
   "execution_count": null,
   "metadata": {},
   "outputs": [],
   "source": [
    "y_valid_hat = model.predict(X_valid)"
   ]
  },
  {
   "cell_type": "code",
   "execution_count": null,
   "metadata": {},
   "outputs": [],
   "source": [
    "y_valid_hat.argmax(axis=1)"
   ]
  },
  {
   "cell_type": "code",
   "execution_count": null,
   "metadata": {},
   "outputs": [],
   "source": [
    "from sklearn.metrics import accuracy_score\n",
    "accuracy_score(y_valid_hat.argmax(axis=1), y_valid.argmax(axis=1))"
   ]
  },
  {
   "cell_type": "code",
   "execution_count": null,
   "metadata": {},
   "outputs": [],
   "source": [
    "img_path = './resized_train/101.jpg'\n",
    "img = image.load_img(img_path, target_size=(100, 100))\n",
    "x = image.img_to_array(img)\n",
    "x = np.expand_dims(x, axis=0)\n",
    "x = preprocess_input(x)\n",
    "\n",
    "features = model.predict(x)"
   ]
  },
  {
   "cell_type": "code",
   "execution_count": null,
   "metadata": {},
   "outputs": [],
   "source": [
    "label_tokenizer.word_index"
   ]
  },
  {
   "cell_type": "code",
   "execution_count": null,
   "metadata": {},
   "outputs": [],
   "source": [
    "features"
   ]
  },
  {
   "cell_type": "code",
   "execution_count": null,
   "metadata": {},
   "outputs": [],
   "source": [
    "label_tokenizer.word_index"
   ]
  },
  {
   "cell_type": "code",
   "execution_count": null,
   "metadata": {},
   "outputs": [],
   "source": [
    "np.bincount(y_train)"
   ]
  },
  {
   "cell_type": "code",
   "execution_count": null,
   "metadata": {},
   "outputs": [],
   "source": [
    "class_weights = np.bincount(y_train.argmax(axis=1))\n",
    "class_weights/max(class_weights)"
   ]
  },
  {
   "cell_type": "code",
   "execution_count": null,
   "metadata": {},
   "outputs": [],
   "source": [
    "class_weights = np.bincount(y_valid.argmax(axis=1))\n",
    "class_weights/max(class_weights)"
   ]
  },
  {
   "cell_type": "code",
   "execution_count": null,
   "metadata": {},
   "outputs": [],
   "source": []
  }
 ],
 "metadata": {
  "anaconda-cloud": {},
  "kernelspec": {
   "display_name": "Python [conda env:anaconda3]",
   "language": "python",
   "name": "conda-env-anaconda3-py"
  },
  "language_info": {
   "codemirror_mode": {
    "name": "ipython",
    "version": 3
   },
   "file_extension": ".py",
   "mimetype": "text/x-python",
   "name": "python",
   "nbconvert_exporter": "python",
   "pygments_lexer": "ipython3",
   "version": "3.5.2"
  },
  "widgets": {
   "state": {
    "5c1d061b90ab4e4f8457f497f8bfbc3e": {
     "views": [
      {
       "cell_index": 11
      }
     ]
    },
    "84d8be86ee764d9aa2c350d986c8e532": {
     "views": [
      {
       "cell_index": 10
      }
     ]
    }
   },
   "version": "1.2.0"
  }
 },
 "nbformat": 4,
 "nbformat_minor": 1
}

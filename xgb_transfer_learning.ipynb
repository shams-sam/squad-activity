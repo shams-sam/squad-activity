{
 "cells": [
  {
   "cell_type": "code",
   "execution_count": 1,
   "metadata": {},
   "outputs": [],
   "source": [
    "import config\n",
    "import utility\n",
    "\n",
    "import cv2\n",
    "from keras.applications.inception_v3 import InceptionV3, preprocess_input, decode_predictions\n",
    "from keras.utils import to_categorical\n",
    "import matplotlib.pyplot as plt\n",
    "import numpy as np\n",
    "import os\n",
    "import pickle as pkl\n",
    "from sklearn.metrics import accuracy_score\n",
    "from sklearn.utils import class_weight\n",
    "from tqdm import tqdm_notebook as tqdm\n",
    "import xgboost as xgb"
   ]
  },
  {
   "cell_type": "code",
   "execution_count": 2,
   "metadata": {},
   "outputs": [],
   "source": [
    "BATCH_SIZE=32"
   ]
  },
  {
   "cell_type": "code",
   "execution_count": 3,
   "metadata": {},
   "outputs": [],
   "source": [
    "model = InceptionV3(weights='imagenet', include_top=True)"
   ]
  },
  {
   "cell_type": "code",
   "execution_count": 4,
   "metadata": {},
   "outputs": [],
   "source": [
    "df_train = pkl.load(open('./data/df_train.dump.pkl', 'rb'))\n",
    "df_valid = pkl.load(open('./data/df_valid.dump.pkl', 'rb'))\n",
    "task_id_to_object_map = pkl.load(open('./data/task_id_to_object_map.dump.pkl', 'rb'))"
   ]
  },
  {
   "cell_type": "code",
   "execution_count": 5,
   "metadata": {},
   "outputs": [],
   "source": [
    "train_labels = {}\n",
    "for path, taskId in zip(df_train.imageId.tolist(), df_train.taskId.tolist()):\n",
    "    train_labels[path.split('./train_images/')[1]] = task_id_to_object_map[taskId]\n",
    "valid_labels = {}\n",
    "for path, taskId in zip(df_valid.imageId.tolist(), df_valid.taskId.tolist()):\n",
    "    valid_labels[path.split('./valid_images/')[1]] = task_id_to_object_map[taskId]"
   ]
  },
  {
   "cell_type": "code",
   "execution_count": 6,
   "metadata": {},
   "outputs": [],
   "source": [
    "resized_train = os.listdir(config.RESIZED_TRAIN_DIR)\n",
    "resized_valid = os.listdir(config.RESIZED_VALID_DIR)\n",
    "img_train = np.empty(shape=(len(resized_train), config.MAX_PIXEL, config.MAX_PIXEL, 3), dtype=np.uint8)\n",
    "labels_train = []\n",
    "img_valid = np.empty(shape=(len(resized_valid), config.MAX_PIXEL, config.MAX_PIXEL, 3), dtype=np.uint8)\n",
    "labels_valid = []"
   ]
  },
  {
   "cell_type": "code",
   "execution_count": 7,
   "metadata": {},
   "outputs": [
    {
     "name": "stdout",
     "output_type": "stream",
     "text": [
      "\n"
     ]
    }
   ],
   "source": [
    "for idx, _ in tqdm(enumerate(resized_train), total=len(resized_train)):\n",
    "    img = cv2.imread(config.RESIZED_TRAIN_DIR + \"/\" + _)\n",
    "    h, w, c = img.shape\n",
    "    img_train[idx, :h, :w] = img\n",
    "    labels_train.append(train_labels[_])"
   ]
  },
  {
   "cell_type": "code",
   "execution_count": 8,
   "metadata": {},
   "outputs": [
    {
     "name": "stdout",
     "output_type": "stream",
     "text": [
      "\n"
     ]
    }
   ],
   "source": [
    "for idx, _ in tqdm(enumerate(resized_valid), total=len(resized_valid)):\n",
    "    img = cv2.imread(config.RESIZED_VALID_DIR + \"/\" + _)\n",
    "    h, w, c = img.shape\n",
    "    img_valid[idx, :h, :w] = img\n",
    "    labels_valid.append(valid_labels[_])"
   ]
  },
  {
   "cell_type": "code",
   "execution_count": 9,
   "metadata": {},
   "outputs": [],
   "source": [
    "X_train = model.predict(img_train, batch_size=1024)\n",
    "X_valid = model.predict(img_valid, batch_size=1024)"
   ]
  },
  {
   "cell_type": "code",
   "execution_count": 10,
   "metadata": {},
   "outputs": [],
   "source": [
    "pkl.dump(X_train, open('./data/X_train_1000.dump.pkl', 'wb'))\n",
    "pkl.dump(X_train, open('./data/labels_train.dump.pkl', 'wb'))\n",
    "pkl.dump(X_valid, open('./data/X_valid_1000.dump.pkl', 'wb'))\n",
    "pkl.dump(labels_valid, open('./data/labels_valid.dump.pkl', 'wb'))"
   ]
  },
  {
   "cell_type": "code",
   "execution_count": 11,
   "metadata": {},
   "outputs": [],
   "source": [
    "label_tokenizer = text.Tokenizer()\n",
    "label_tokenizer.fit_on_texts(labels_valid)\n",
    "y_train = label_tokenizer.texts_to_sequences(labels_train)\n",
    "y_valid = label_tokenizer.texts_to_sequences(labels_valid)\n",
    "y_train = [_[0] for _ in y_train]\n",
    "y_valid = [_[0] for _ in y_valid]\n",
    "cls_wgt = class_weight.compute_class_weight('balanced', np.unique(y_train), y_train)\n",
    "cls_wgt = cls_wgt.tolist()"
   ]
  },
  {
   "cell_type": "code",
   "execution_count": 12,
   "metadata": {},
   "outputs": [],
   "source": [
    "params = {}\n",
    "params['objective'] = 'multi:softprob'\n",
    "params['eval_metric'] = 'mlogloss'\n",
    "params['eta'] = 0.01\n",
    "params['num_class'] = 5\n",
    "params['n_estimators'] = 10000\n",
    "params['max_depth'] = 4 # or 5\n",
    "params['min_child_weight'] = 4 # or 1\n",
    "params['gamma'] = 0.4 # or 0\n",
    "params['subsample'] = 0.8\n",
    "params['colsample_bytree'] = 0.75 # or 0.8\n",
    "params['nthread'] = 4\n",
    "params['scale_pos_weight'] = 1\n",
    "params['seed'] = 1"
   ]
  },
  {
   "cell_type": "code",
   "execution_count": 13,
   "metadata": {},
   "outputs": [],
   "source": [
    "d_train = xgb.DMatrix(X_train, label=y_train)\n",
    "d_valid = xgb.DMatrix(X_valid, label=y_valid)\n",
    "\n",
    "watchlist = [(d_train, 'train'), (d_valid, 'valid')]\n",
    "\n",
    "bst = xgb.train(params, d_train, 1110, watchlist, early_stopping_rounds=50, verbose_eval=1)"
   ]
  },
  {
   "cell_type": "code",
   "execution_count": 15,
   "metadata": {},
   "outputs": [],
   "source": [
    "y_valid_hat = bst.predict(d_valid)"
   ]
  },
  {
   "cell_type": "code",
   "execution_count": 16,
   "metadata": {},
   "outputs": [
    {
     "data": {
      "text/plain": [
       "0.37517670342097825"
      ]
     },
     "execution_count": 17,
     "metadata": {},
     "output_type": "execute_result"
    }
   ],
   "source": [
    "accuracy_score(y_valid_hat.argmax(axis=1), y_valid)"
   ]
  }
 ],
 "metadata": {
  "anaconda-cloud": {},
  "kernelspec": {
   "display_name": "Python [conda env:anaconda3]",
   "language": "python",
   "name": "conda-env-anaconda3-py"
  },
  "language_info": {
   "codemirror_mode": {
    "name": "ipython",
    "version": 3
   },
   "file_extension": ".py",
   "mimetype": "text/x-python",
   "name": "python",
   "nbconvert_exporter": "python",
   "pygments_lexer": "ipython3",
   "version": "3.5.2"
  }
 },
 "nbformat": 4,
 "nbformat_minor": 1
}
